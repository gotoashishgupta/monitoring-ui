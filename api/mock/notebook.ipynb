{
 "cells": [
  {
   "cell_type": "code",
   "execution_count": null,
   "metadata": {
    "vscode": {
     "languageId": "shellscript"
    }
   },
   "outputs": [],
   "source": [
    "!pip install ipython"
   ]
  },
  {
   "cell_type": "code",
   "execution_count": null,
   "metadata": {},
   "outputs": [],
   "source": [
    "# Python Playground\n",
    "\n",
    "import json\n",
    "import os\n",
    "import re\n",
    "from pathlib import Path\n",
    "from pprint import pp\n",
    "\n",
    "import IPython\n",
    "import matplotlib as mpl\n",
    "import matplotlib.pyplot as plt\n",
    "import pandas as pd\n",
    "import requests\n",
    "from IPython.display import HTML, JSON, Code, Image, Markdown, display\n",
    "from langchain_community.document_loaders import JSONLoader\n",
    "\n",
    "%matplotlib inline\n",
    "%load_ext autoreload\n",
    "%autoreload 2\n"
   ]
  },
  {
   "cell_type": "code",
   "execution_count": 2,
   "metadata": {},
   "outputs": [],
   "source": [
    "home_dir = os.path.expanduser(\"~\")\n",
    "npc_path = os.path.join(home_dir, 'Desktop/tmp/npc.json')\n",
    "topics_path = os.path.join(home_dir, 'Desktop/tmp/topics.json')"
   ]
  },
  {
   "cell_type": "code",
   "execution_count": null,
   "metadata": {
    "vscode": {
     "languageId": "javascript"
    }
   },
   "outputs": [],
   "source": [
    "if (windows) {\n",
    "  function groupPairs(arr) {\n",
    "    let result = [];\n",
    "    for (let i = 0; i < arr.length; i += 2) {\n",
    "        result.push(arr.slice(i, i + 2));\n",
    "    }\n",
    "    return result;\n",
    "  }\n",
    "\n",
    "  var topic_consumers_list = [...document.querySelectorAll(\"#widget_1671671868820084 > div > div > div.widget-overlay.widget.query_table.widget--with_title.multisize_layout > div > div:nth-child(3) > div > div > div > div > div.druids_table_table__root-wrapper > div.druids_table_table__root > div > table > tbody > tr > td:first-child, #widget_1671671868820084 > div > div > div.widget-overlay.widget.query_table.widget--with_title.multisize_layout > div > div:nth-child(3) > div > div > div > div > div.druids_table_table__root-wrapper > div.druids_table_table__root > div > table > tbody > tr > td:nth-child(2)\")].map(x => x.innerText)\n",
    "\n",
    "  var npc_topic_n_consumers_pairs = groupPairs(topic_consumers_list)\n",
    "}"
   ]
  },
  {
   "cell_type": "code",
   "execution_count": null,
   "metadata": {},
   "outputs": [],
   "source": [
    "# 1. Read JSON files into variables\n",
    "npc_topic_n_consumers = json.loads(Path(npc_path).read_text())\n",
    "npc = []\n",
    "consumer = []\n",
    "for [ npc_x, consumer_x ] in npc_topic_n_consumers:\n",
    "    npc.append(npc_x)\n",
    "    consumer.append(consumer_x)\n",
    "    \n",
    "\n",
    "JSON(npc)\n",
    "\n",
    "\n",
    "topics = requests.get(\"http://kube-kafkarestproxy-c14.service.intradsm1.sdeconsul.csnzoo.com/topics\").json()\n",
    "topics = list(map(lambda x: x.lower(), topics))\n",
    "JSON(topics)\n",
    "\n",
    "E2E_REGEX = r'(?i)^e2e(-|_| )'\n",
    "\n",
    "topics_e2e = [ re.sub(E2E_REGEX, '', x) for x in topics if isinstance(x, str) and re.match(E2E_REGEX, x)]\n",
    "JSON(topics_e2e)"
   ]
  },
  {
   "cell_type": "code",
   "execution_count": null,
   "metadata": {},
   "outputs": [],
   "source": [
    "# 2. Convert each string in list to reverse alphabetical order\n",
    "def reverse_alpha_order(s):\n",
    "    return s[::-1]\n",
    "npc_reversed = [ reverse_alpha_order(x) for x in npc]\n",
    "topics_e2e_reversed = list(map(reverse_alpha_order, topics_e2e))\n",
    "\n",
    "topics_e2e_reversed[0:5]\n"
   ]
  },
  {
   "cell_type": "code",
   "execution_count": 5,
   "metadata": {},
   "outputs": [],
   "source": [
    "# 3. Match entries and categorize\n",
    "# found = list([ {\"haystack\": reverse_alpha_order(x), \"match\": reverse_alpha_order(topic_reverse) } for x in npc_reversed  for topic_reverse in topics_e2e_reversed if x in topic_reverse])\n",
    "# not_found = set([reverse_alpha_order(x) for x in npc_reversed for topic_reverse in topics_e2e_reversed if x in topic_reverse])\n",
    "found = []\n",
    "not_found = []\n",
    "\n",
    "for x in npc_reversed:\n",
    "    match_found = False\n",
    "    match_topic = None\n",
    "    for topic_reverse in topics_e2e_reversed:\n",
    "        if x == topic_reverse:\n",
    "            match_found = True\n",
    "            match_topic = topic_reverse\n",
    "            break\n",
    "    if match_found:\n",
    "        found.append({\"haystack\": reverse_alpha_order(x), \"match\": reverse_alpha_order(match_topic)})\n",
    "    else:\n",
    "        not_found.append(x)\n",
    "        \n"
   ]
  },
  {
   "cell_type": "code",
   "execution_count": null,
   "metadata": {},
   "outputs": [],
   "source": [
    "pp(not_found)"
   ]
  },
  {
   "cell_type": "code",
   "execution_count": null,
   "metadata": {},
   "outputs": [],
   "source": [
    "# Get All Info from Kafka Clusters\n",
    "kafka_cluser_info = requests.get(\"http://kube-kafkarestproxy-c14.service.intradsm1.sdeconsul.csnzoo.com/v3/clusters\").json()\n",
    "kafka_cluser_id = kafka_cluser_info[\"data\"][0][\"cluster_id\"]\n",
    "kafka_consumer_groups = kafka_cluser_info[\"data\"][0][\"consumer_groups\"][\"related\"]\n",
    "kafka_topics = kafka_cluser_info[\"data\"][0][\"topics\"][\"related\"]\n",
    "\n",
    "kafka_consumer_groups"
   ]
  },
  {
   "cell_type": "code",
   "execution_count": null,
   "metadata": {},
   "outputs": [],
   "source": [
    "consumer_groups_response = requests.get(kafka_consumer_groups).json()\n",
    "\n",
    "consumer_groups_response\n",
    "\n",
    "consumer_group_mapping = {consumer['consumer_group_id']: consumer['consumers']['related'] for consumer in consumer_groups_response['data']}\n",
    "\n",
    "consumer_group_mapping_e2e = {consumer['consumer_group_id']: consumer['consumers']['related'] for consumer in consumer_groups_response['data'] if re.match(E2E_REGEX, consumer['consumer_group_id']) }\n",
    "\n",
    "len(consumer_group_mapping_e2e), consumer_group_mapping_e2e\n"
   ]
  },
  {
   "cell_type": "code",
   "execution_count": null,
   "metadata": {},
   "outputs": [],
   "source": [
    "# find all the consumer groups not defined with e2e-prefix\n",
    "import IPython.display\n",
    "\n",
    "\n",
    "defined_e2e_consumers = consumer_group_mapping_e2e.keys()\n",
    "defined_e2e_consumers_without_prefix = [ re.sub(E2E_REGEX, '', x).lower() for x in defined_e2e_consumers ]\n",
    "\n",
    "consumer\n",
    "\n",
    "consumer_set = set(consumer)\n",
    "defined_e2e_consumers_without_prefix_set = set(defined_e2e_consumers_without_prefix)\n",
    "\n",
    "\n",
    "consumers_not_defined = consumer_set - defined_e2e_consumers_without_prefix_set\n",
    "\n",
    "len(consumers_not_defined), len(consumer_set)\n",
    "\n",
    "display(consumers_not_defined)\n",
    "# consumer_group_mapping"
   ]
  },
  {
   "cell_type": "code",
   "execution_count": null,
   "metadata": {},
   "outputs": [],
   "source": [
    "# get original consumer group names not defined\n",
    "consumer_group_mapping\n",
    "\n",
    "consumer_groups_details_not_defined = { k: v for k, v in consumer_group_mapping.items() if k.lower() in consumers_not_defined}\n",
    "\n",
    "len(consumer_groups_details_not_defined)\n"
   ]
  },
  {
   "cell_type": "code",
   "execution_count": null,
   "metadata": {},
   "outputs": [],
   "source": [
    "import yaml\n",
    "import json\n",
    "from functools import reduce\n",
    "from typing import Any, Dict, List, Optional\n",
    "\n",
    "import operator\n",
    "\n",
    "yaml_string = \"\"\"\n",
    "part_deleted:\n",
    "  topic: \"e2e-Wayfair.Supplier.NewProductCreation.PartDeleted\"\n",
    "  groups:\n",
    "    - name: \"ShippingPartDeletedConsumer\"\n",
    "      value: \"e2e-ShippingPartDeletedConsumer\"\n",
    "    - name: \"CompliancePartDeletedConsumer\"\n",
    "      value: \"e2e-CompliancePartDeletedConsumer\"\n",
    "    - name: \"FeaturesPartDeletedConsumer\"\n",
    "      value: \"e2e-FeaturesPartDeletedConsumer\"\n",
    "    - name: \"CoreProductPartDeletedConsumer\"\n",
    "      value: \"e2e-CoreProductPartDeletedConsumer\"\n",
    "    - name: \"CatmanPricingPartDeletedConsumer\"\n",
    "      value: \"e2e-CatmanPricingPartDeletedConsumer\"\n",
    "part_submission_status:\n",
    "  topic: \"e2e-NpcSubmissionStatusOutput\"\n",
    "  groups:\n",
    "    - name: \"CoreProductSubmissionStatusConsumer\"\n",
    "      value: \"e2e-CoreProductSubmissionStatusConsumer\"\n",
    "part_parsed:\n",
    "  topic: \"e2e-Wayfair.Supplier.NewProductCreation.PartParsed\"\n",
    "  groups:\n",
    "    - name: \"PartParsedConsumer\"\n",
    "      value: \"e2e-PartParsedConsumer\"\n",
    "staging_part_save_result:\n",
    "  topic: \"e2e-Wayfair.Supplier.NewProductCreation.Staging.PartSaveResult\"\n",
    "staging_part_save_dead_letter:\n",
    "  topic: \"e2e-Wayfair.Supplier.NewProductCreation.Staging.PartSave.DeadLetter\"\n",
    "staging_part_save_retry:\n",
    "  topic: \"e2e-Wayfair.Supplier.NewProductCreation.Staging.PartSave.Retry\"\n",
    "  \n",
    "#components/kafka/example/constants.py topics\n",
    "kafka:\n",
    "  topic: \"e2e-topic\"\n",
    "  avro_topic: \"e2e-avro_topic\"\n",
    "\n",
    "#components/producers/product_created_log/producer.py  \n",
    "product_created_log:\n",
    "  topic: \"e2e-Wayfair.Supplier.NewProductCreation.Analytics.ProductCreatedLog\"  \n",
    "\n",
    "\"\"\"\n",
    "data_dict = yaml.safe_load(yaml_string)\n",
    "\n",
    "\n",
    "def get_kafka_group(\n",
    "    path: List[str], group_name: str = \"\", default: str = \"\"\n",
    ") -> str:\n",
    "    group_configs = reduce(operator.getitem, path, data_dict)\n",
    "    print(f'{json.dumps(group_configs)}')\n",
    "    if isinstance(group_configs, list):\n",
    "        for group in group_configs:\n",
    "            if isinstance(group, dict) and \"name\" in group:\n",
    "                if group[\"name\"].lower() == group_name.lower():\n",
    "                    return group[\"value\"]\n",
    "    return default\n",
    "\n",
    "get_kafka_group(\n",
    "    [\"part_deleted\", \"groups\"], \"CompliancePartDeletedConsumer\"\n",
    ")"
   ]
  },
  {
   "cell_type": "code",
   "execution_count": null,
   "metadata": {},
   "outputs": [],
   "source": []
  }
 ],
 "metadata": {
  "kernelspec": {
   "display_name": "api.mock",
   "language": "python",
   "name": "python3"
  },
  "language_info": {
   "codemirror_mode": {
    "name": "ipython",
    "version": 3
   },
   "file_extension": ".py",
   "mimetype": "text/x-python",
   "name": "python",
   "nbconvert_exporter": "python",
   "pygments_lexer": "ipython3",
   "version": "3.10.13"
  }
 },
 "nbformat": 4,
 "nbformat_minor": 4
}
